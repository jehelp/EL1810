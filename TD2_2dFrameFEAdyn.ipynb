{
 "cells": [
  {
   "cell_type": "markdown",
   "metadata": {},
   "source": [
    "# Finite element dynamic analysis of an elastic frame"
   ]
  },
  {
   "cell_type": "markdown",
   "metadata": {},
   "source": [
    "______________________________\n",
    "\n",
    "*Curriculum:* CentraleSupélec\n",
    "\n",
    "*Course:* EL1810 - Structural Dynamics and Acoustics\n",
    "\n",
    "*Session:* Hands-on #7\n",
    "\n",
    "*Date:* 2021-01-11\n",
    "______________________________"
   ]
  },
  {
   "cell_type": "markdown",
   "metadata": {},
   "source": [
    "This document presents the principal steps in a finite element analysis program for a simple  structure.\n",
    "For any FE program, the overall procedure is the same.\n",
    "The three main steps are:\n",
    "- Pre-processing: the system is described by the user (inputs)\n",
    "- Processing: the FE mesh is generated and the problem is numerically solved\n",
    "- Post-processing: plotting and analysis of the outputs"
   ]
  },
  {
   "cell_type": "markdown",
   "metadata": {},
   "source": [
    "We first import the Python packages and modules we will need.\n",
    "Modules *mesGen* and *strMod* are dedicated to the FE analysis of elastic frames. You might want to modify the code if you want to use other geometries."
   ]
  },
  {
   "cell_type": "code",
   "execution_count": 1,
   "metadata": {
    "collapsed": true,
    "scrolled": true
   },
   "outputs": [],
   "source": [
    "import numpy as np\n",
    "import numpy.matlib\n",
    "from numpy import linalg\n",
    "import mesGen\n",
    "import strMod\n",
    "import impGM\n",
    "import modAna"
   ]
  },
  {
   "cell_type": "markdown",
   "metadata": {},
   "source": [
    "## 1. Description of the system"
   ]
  },
  {
   "cell_type": "markdown",
   "metadata": {},
   "source": [
    "User inputs here the description of the structure she/he wants to model:\n",
    "- Structure geometry\n",
    "- Element section geometry\n",
    "- Material properties\n",
    "- Boundary conditions (loading)\n",
    "- Parameterization for the solution procedure\n",
    "- Output data"
   ]
  },
  {
   "cell_type": "markdown",
   "metadata": {},
   "source": [
    "### 1.1. Structure geometry"
   ]
  },
  {
   "cell_type": "markdown",
   "metadata": {},
   "source": [
    "We consider a 2D frame structure. A 2D frame structure is made of columns and beams in a plane.\n",
    "\n",
    "The code provides you with the possibility to add rotational springs at connections between elements. Do not use this option first.\n",
    "\n",
    "We first create an array with, for each structural element, the following list: [node I, node J, element type (1: beam/column, 2: rotational spring), element length, global to local rotation angle] (see figure with the description of the structure):"
   ]
  },
  {
   "cell_type": "markdown",
   "metadata": {},
   "source": [
    "Nodes coordinates (2D problem):"
   ]
  },
  {
   "cell_type": "code",
   "execution_count": 2,
   "metadata": {
    "collapsed": true
   },
   "outputs": [],
   "source": [
    "Lf = 8      # bay length [m]\n",
    "Hf = 4      # story height [m]\n",
    "nodCoo = []\n",
    "nodCoo.append([0,0])     # node 0 [X coordinate,Y coordinate]\n",
    "nodCoo.append([Lf,0])    # node 1 [X,Y]\n",
    "nodCoo.append([0,Hf])    # ...\n",
    "nodCoo.append([Lf,Hf])\n",
    "nodCoo.append([0,2*Hf])\n",
    "nodCoo.append([Lf,2*Hf])"
   ]
  },
  {
   "cell_type": "markdown",
   "metadata": {},
   "source": [
    "Elements connect a node I to a node J; we consider:\n",
    "- different element types (0->beam/column; 1->rotational spring)\n",
    "- different element sections"
   ]
  },
  {
   "cell_type": "code",
   "execution_count": 3,
   "metadata": {
    "collapsed": true
   },
   "outputs": [],
   "source": [
    "strEle = []\n",
    "strEle.append([0,2,0,0])  # elt 0 [node I, node J, element type, section type] \n",
    "strEle.append([2,4,0,0])  # elt 1\n",
    "strEle.append([1,3,0,1])  # ...\n",
    "strEle.append([3,5,0,1])\n",
    "strEle.append([2,3,0,2])\n",
    "strEle.append([4,5,0,3])\n",
    "strEle.append([0,3,0,4])\n",
    "strEle.append([1,2,0,4])"
   ]
  },
  {
   "cell_type": "markdown",
   "metadata": {},
   "source": [
    "### 1.2. Element properties (material and section geometry)"
   ]
  },
  {
   "cell_type": "markdown",
   "metadata": {
    "collapsed": true
   },
   "source": [
    "The geometric properties of selected steel beam sections (see figure) can for instance be found here: <http://ds.arcelormittal.com/repo/Catalog/ArcelorMittal_PV_FR_RU.pdf>\n",
    "\n",
    "![Geometry of a steel beam section.](img/SteelBeamSection.jpg)\n",
    "\n",
    "*Remark:* We consider that the beams and columns can be described using Euler-Bernoulli kinematic assumptions. Other options are generally available in FE analysis programs such as Timoshenko kinematics. For columns, buckling should also be investigated.\n",
    "\n",
    "- $E$ [$N/m^2$]: material Young's modulus\n",
    "- $A$ [$m^2$]  : element cross-section area\n",
    "- $I_y$ [$m^4$] : element cross-section moment of inertia wrt centroid"
   ]
  },
  {
   "cell_type": "code",
   "execution_count": 4,
   "metadata": {
    "collapsed": true,
    "scrolled": true
   },
   "outputs": [],
   "source": [
    "eltPro = []\n",
    "eltPro.append([2.1e11,33.4e-4,2772e-8])   # section type 0  [E, A, Iy] -> IPE 220\n",
    "eltPro.append([2.1e11,33.4e-4,2772e-8])   # section type 1\n",
    "eltPro.append([2.1e11,33.4e-4,2772e-8])   # ...\n",
    "eltPro.append([2.1e11,33.4e-4,2772e-8])\n",
    "eltPro.append([2.1e11,2.5e-3,0])"
   ]
  },
  {
   "cell_type": "markdown",
   "metadata": {},
   "source": [
    "### 1.4. Boundary conditions"
   ]
  },
  {
   "cell_type": "markdown",
   "metadata": {},
   "source": [
    "In 'fixDof' array, we indicate for every node whether the DOFs are free or not.\n",
    "The line number of the matrix corresponds to the node number.\n",
    "For each of the 3 DOFs $(u,v,\\theta)$, there is a 1 if the DOF is free and a 0 otherwise:"
   ]
  },
  {
   "cell_type": "code",
   "execution_count": 5,
   "metadata": {
    "collapsed": true
   },
   "outputs": [],
   "source": [
    "fixDof = []\n",
    "fixDof.append([0,0,0])   # node 0\n",
    "fixDof.append([0,0,0])   # node 1\n",
    "fixDof.append([1,1,1])   # ...\n",
    "fixDof.append([1,1,1])\n",
    "fixDof.append([1,1,1])\n",
    "fixDof.append([1,1,1])"
   ]
  },
  {
   "cell_type": "markdown",
   "metadata": {},
   "source": [
    "The frame is fixed in the ground at its base."
   ]
  },
  {
   "cell_type": "markdown",
   "metadata": {},
   "source": [
    "## 2. Mesh generation"
   ]
  },
  {
   "cell_type": "markdown",
   "metadata": {},
   "source": [
    "In this simple example, the only thing that has to be done for generating the mesh is computing element length and orientation ($cos(\\theta)$ and $sin(\\theta)$ where $\\theta$ is the angle between local and global coordinate systems). We get these mesh data as:"
   ]
  },
  {
   "cell_type": "code",
   "execution_count": 6,
   "metadata": {
    "collapsed": true
   },
   "outputs": [],
   "source": [
    "# mesh data\n",
    "mesDat = mesGen.eltL0(strEle,nodCoo)\n",
    "\n",
    "# number of free DOFs\n",
    "nDof = np.sum(fixDof)"
   ]
  },
  {
   "cell_type": "markdown",
   "metadata": {},
   "source": [
    "## 3. External loading"
   ]
  },
  {
   "cell_type": "markdown",
   "metadata": {},
   "source": [
    "### 3.1. Static loading"
   ]
  },
  {
   "cell_type": "markdown",
   "metadata": {},
   "source": [
    "Uniformly distributed static loadings are applied on both beams; self-weight is neglected:"
   ]
  },
  {
   "cell_type": "code",
   "execution_count": 7,
   "metadata": {
    "collapsed": true
   },
   "outputs": [],
   "source": [
    "q1 = 1.5e5   # [N] 2nd-floor beam\n",
    "q2 = 1.5e5   # [N] 3rd-floor beam\n",
    "H1 = 0.1*q1*Lf/2"
   ]
  },
  {
   "cell_type": "markdown",
   "metadata": {},
   "source": [
    "In 'staLoa' array, we input the static loading actions on the nodes of the FE mesh:"
   ]
  },
  {
   "cell_type": "code",
   "execution_count": 8,
   "metadata": {
    "collapsed": true
   },
   "outputs": [],
   "source": [
    "Fy1 = q1*Lf/2\n",
    "Mz1 = q1*Lf**2/12\n",
    "Fy2 = q2*Lf/2\n",
    "Mz2 = q2*Lf**2/12\n",
    "staLoa = []\n",
    "staLoa.append([0,0,0])         # node 0 [Dx, Dy, Rz] (displacements)\n",
    "staLoa.append([0,0,0])         # node 1 [Dx, Dy, Rz] (displacements)\n",
    "staLoa.append([H1,-Fy1,-Mz1])   # node 2 [Fx, Fy, Mz] (forces)\n",
    "staLoa.append([0,-Fy1,Mz1])    # ...\n",
    "staLoa.append([2*H1,-Fy2,-Mz2])\n",
    "staLoa.append([0,-Fy2,Mz2])"
   ]
  },
  {
   "cell_type": "markdown",
   "metadata": {},
   "source": [
    "### 3.2. Seismic loading"
   ]
  },
  {
   "cell_type": "markdown",
   "metadata": {},
   "source": [
    "We also consider lumped masses at nodes 2, 3, 4 and 5 which are active for DOFs 1 (horizontal) only:"
   ]
  },
  {
   "cell_type": "code",
   "execution_count": 9,
   "metadata": {
    "collapsed": true
   },
   "outputs": [],
   "source": [
    "gra = 9.81       # [m/s2]\n",
    "mas1 = Fy1/gra   # [kg]\n",
    "mas2 = Fy2/gra   # [kg]\n",
    "inpMas = []\n",
    "inpMas.append([2,mas1,mas1,mas1])   # node,DOF1,DOF2,DOF3\n",
    "inpMas.append([3,mas1,mas1,mas1])\n",
    "inpMas.append([4,mas2,mas2,mas2])\n",
    "inpMas.append([5,mas2,mas2,mas2])\n",
    "\n",
    "# mass active DOFs in the horizontal direction\n",
    "r_a1 = [[1],[0],[0],[1],[0],[0],[1],[0],[0],[1],[0],[0]]\n",
    "r_v = np.matrix(r_a1)"
   ]
  },
  {
   "cell_type": "markdown",
   "metadata": {},
   "source": [
    "Ground acceleration is recorded in file 'ps_fv.csv' [time, acceleration] and we import it in the 2D-array 'GM_a2':\n",
    "\n",
    "![Ground motion time history and response spectrum.](img/GroundMotion.pdf)"
   ]
  },
  {
   "cell_type": "code",
   "execution_count": 10,
   "metadata": {
    "collapsed": true
   },
   "outputs": [],
   "source": [
    "GM_a2,timFin,timSteGM = impGM.impCsv('./GroundMotions/accePS-FV.csv')"
   ]
  },
  {
   "cell_type": "markdown",
   "metadata": {},
   "source": [
    "## 4. Resolution procedure"
   ]
  },
  {
   "cell_type": "markdown",
   "metadata": {},
   "source": [
    "### 4.1. Static analysis"
   ]
  },
  {
   "cell_type": "code",
   "execution_count": 11,
   "metadata": {},
   "outputs": [
    {
     "name": "stdout",
     "output_type": "stream",
     "text": [
      "[[ 0.00131453]\n",
      " [-0.00602847]\n",
      " [-0.05424632]\n",
      " [ 0.00425264]\n",
      " [-0.00716835]\n",
      " [ 0.02642456]\n",
      " [ 0.13603423]\n",
      " [-0.00930051]\n",
      " [-0.11907751]\n",
      " [ 0.13202723]\n",
      " [-0.01073976]\n",
      " [ 0.0706236 ]]\n"
     ]
    }
   ],
   "source": [
    "# external forces vector\n",
    "fsta_v = strMod.extLoa(nDof,fixDof,staLoa)\n",
    "    \n",
    "# structural stiffness matrix K\n",
    "K_m = strMod.stiMat(nDof,strEle,mesDat,eltPro,fixDof)\n",
    "\n",
    "# compute static displacements at free DOFs\n",
    "dis_v = linalg.solve(K_m,fsta_v)\n",
    "\n",
    "print(dis_v)"
   ]
  },
  {
   "cell_type": "markdown",
   "metadata": {},
   "source": [
    "### 4.2. Modal analysis"
   ]
  },
  {
   "cell_type": "code",
   "execution_count": 12,
   "metadata": {},
   "outputs": [
    {
     "name": "stdout",
     "output_type": "stream",
     "text": [
      "ome_v = [  2.65622693   9.94067634  12.14197102  15.26394538  16.99656258\n",
      "  26.51521915  35.19636302  33.63846666  60.4941725   53.71540759\n",
      "  87.59548225  87.55659549]\n",
      "phi1 = [[-0.010847  ]\n",
      " [-0.00255332]\n",
      " [ 0.07255103]\n",
      " [-0.010847  ]\n",
      " [ 0.00255332]\n",
      " [ 0.07255103]\n",
      " [-0.69098495]\n",
      " [-0.00337131]\n",
      " [ 0.13092213]\n",
      " [-0.69098495]\n",
      " [ 0.00337131]\n",
      " [ 0.13092213]]\n"
     ]
    }
   ],
   "source": [
    "# structural mass matrix M\n",
    "M_m = strMod.masMat(nDof,inpMas,fixDof)\n",
    "\n",
    "# eigen properties of the structure\n",
    "ome_v,phi_m = modAna.eigPro(M_m,K_m)\n",
    "print('ome_v =',ome_v)\n",
    "print('phi1 =', phi_m[:,0])"
   ]
  },
  {
   "cell_type": "code",
   "execution_count": 13,
   "metadata": {},
   "outputs": [
    {
     "name": "stdout",
     "output_type": "stream",
     "text": [
      "[[ -1.40366391e+00]\n",
      " [ -4.83282747e-17]\n",
      " [  2.55786986e-01]\n",
      " [  3.55026941e-16]\n",
      " [ -2.79730739e-01]\n",
      " [ -1.25275906e+00]\n",
      " [  5.58632588e-01]\n",
      " [ -3.97035365e-15]\n",
      " [ -6.30498107e-15]\n",
      " [  1.18961907e-16]\n",
      " [ -8.82176892e-14]\n",
      " [ -6.76441318e-02]]\n"
     ]
    }
   ],
   "source": [
    "# generalized masses\n",
    "genMas_v = np.zeros((nDof,1))\n",
    "for i in range(nDof):\n",
    "    genMas_v[i,0] = np.transpose(phi_m[:,i])*M_m*phi_m[:,i]\n",
    "    \n",
    "# normalize eigen vectors wrt mass\n",
    "phiNor_m = np.zeros((nDof,nDof))\n",
    "for i in range(4,nDof):\n",
    "    for j in range(nDof):\n",
    "        phiNor_m[j,i] = phi_m[j,i]/np.sqrt(genMas_v[i,0])\n",
    "    \n",
    "#print(np.transpose(phiNor_m[:,6])*M_m*phiNor_m[:,6])\n",
    "    \n",
    "# participation factors\n",
    "parFac_v = np.zeros((nDof,1))\n",
    "for i in range(nDof):\n",
    "    if genMas_v[i,0] == 0:\n",
    "        parFac_v[i,0] = 0\n",
    "    else:\n",
    "        parFac_v[i,0] = np.transpose(phi_m[:,i])*M_m*r_v/genMas_v[i,0]\n",
    "\n",
    "print(parFac_v)"
   ]
  },
  {
   "cell_type": "markdown",
   "metadata": {},
   "source": [
    "### 4.3. Seismic analysis with response spectrum"
   ]
  },
  {
   "cell_type": "code",
   "execution_count": null,
   "metadata": {
    "collapsed": true
   },
   "outputs": [],
   "source": []
  },
  {
   "cell_type": "markdown",
   "metadata": {},
   "source": [
    "### 4.4. Seismic analysis with time-stepping algorithm"
   ]
  },
  {
   "cell_type": "markdown",
   "metadata": {},
   "source": [
    "In the general case of a dynamic nonlinear problem. We use Newmark time-stepping algorithm and Newton-Raphson iterative procedure to satisfy the equilibrium equation at each time step.\n",
    "\n",
    "The equilibrium equation reads:\n",
    "\\begin{equation}\n",
    " \\begin{pmatrix}\n",
    "  \\mathbf{M}_{bb} & \\mathbf{0} \\\\\n",
    "  \\mathbf{0} & \\mathbf{M}\n",
    " \\end{pmatrix}\n",
    " \\begin{pmatrix}\n",
    "  \\mathbf{0} \\\\\n",
    "  \\mathbf{a}(t)\n",
    " \\end{pmatrix} +\n",
    " \\begin{pmatrix}\n",
    "  \\mathbf{C}_{bb} & \\mathbf{C}_{b} \\\\\n",
    "  \\mathbf{C}_{b} & \\mathbf{C}\n",
    " \\end{pmatrix} +\n",
    " \\begin{pmatrix}\n",
    "  \\mathbf{0} \\\\\n",
    "  \\mathbf{v}(t)\n",
    " \\end{pmatrix} +\n",
    " \\begin{pmatrix}  \n",
    "  \\mathbf{f}_b^r(t) \\\\\n",
    "  \\mathbf{f}^r(t)\n",
    " \\end{pmatrix} = -\n",
    " \\begin{pmatrix}\n",
    "  \\mathbf{M}_{bb} & \\mathbf{0} \\\\\n",
    "  \\mathbf{0} & \\mathbf{M}\n",
    " \\end{pmatrix}\n",
    " \\begin{pmatrix}\n",
    "  \\mathbf{\\Delta}_b \\\\\n",
    "  \\mathbf{\\Delta}\n",
    " \\end{pmatrix} a^g(t) +\n",
    " \\begin{pmatrix}\n",
    "  \\mathbf{f}_b^s(t) \\\\\n",
    "  \\mathbf{f}^s(t)\n",
    " \\end{pmatrix}\n",
    "\\end{equation}\n",
    "where the first lines (with subscript 'b') correspond to the $B$ DOFs that are fixed on the ground (base of the structure); the last $N$ lines correspond to the $N$ free DOFs. Also:\n",
    "\n",
    "- $\\mathbf{M}$, $\\mathbf{C}$ are the mass and stiffness matrices, and $\\mathbf{f}^r$ is the resisting forces vector\n",
    "- $\\mathbf{a}$, $\\mathbf{v}$, and $\\mathbf{d}$ are the vectors of the accelerations, velocities and displacements at the structural DOFs\n",
    "- $\\mathbf{\\Delta}a^g(t)$ is the seismic ground motion time history vector ($\\Delta$ vector components are 1 for the horizontal DOFs and 0 at the other DOFs; $a^g(t)$ is the recorded seimic ground motion)\n",
    "- $\\mathbf{f}^s$ is the vector of the external static loading (as opposed to the seismic loading); the components of the vector $\\mathbf{f}_b^s$ are the reactions at the fixed DOFs.\n",
    "\n",
    "*Remark:* A lumped mass matrix is considered here (diagonal matrix).\n",
    "\n",
    "*Remark:* In what follows, we only solve the $N$ equations corresponding to the $N$ free DOFs. Then the $B$ other equations can be straightforwardly solved to compute the reactions as:\n",
    "\\begin{equation}\n",
    " \\mathbf{f}_b^s = \\mathbf{C}_b \\, \\mathbf{v} + \\mathbf{f}_b^r + \\mathbf{M}_{bb} \\mathbf{\\Delta}_b a^g\n",
    "\\end{equation}\n",
    "\n",
    "We know recast the problem introducing the residual\n",
    "\\begin{equation}\n",
    " \\mathbf{0} := \\mathbf{r}(\\mathbf{u},\\mathbf{v},\\mathbf{a}) = \\mathbf{f}^e - \\left( \\mathbf{M} \\, \\mathbf{a} + \\mathbf{C} \\, \\mathbf{v} + \\mathbf{f}^r(\\mathbf{u}) \\right)\n",
    "\\end{equation}\n",
    "where the external action is denoted as:\n",
    "\\begin{equation}\n",
    " \\mathbf{f}^e := -\\mathbf{M}\\mathbf{\\Delta}a^g + \\mathbf{f}^s\n",
    "\\end{equation}\n",
    "\n",
    "Newmark time-stepping method:\n",
    "\\begin{align}\n",
    " & \\mathbf{u}_{n+1} = \\mathbf{u}_n + \\Delta t \\, \\mathbf{v}_n + \\Delta t^2 \\left( (\\frac{1}{2}-\\beta) \\mathbf{a}_n + \\beta \\mathbf{a}_{n+1} \\right) \\\\\n",
    " & \\mathbf{v}_{n+1} = \\mathbf{v}_n + \\Delta t \\left( (1-\\gamma) \\mathbf{a}_n + \\gamma \\mathbf{a}_{n+1} \\right)\n",
    "\\end{align}\n",
    "\n",
    "Newton-Raphson iterative procedure to solve the nonlinear equation $\\mathbf{r} = \\mathbf{0}$:\n",
    "\\begin{align}\n",
    " \\mathbf{0} & := \\mathbf{r}_{n+1}^{(i+1)} \\approx \\mathbf{r}_{n+1}^{(i)} + d\\mathbf{r}_{n+1}^{(i+1)} \\\\\n",
    "  & = \\mathbf{r}_{n+1}^{(i)} + \\frac{\\partial \\mathbf{r}}{\\partial \\mathbf{u}}\\Big|_{n+1}^{(i)} \\, d\\mathbf{u}_{n+1}^{(i+1)} + \\frac{\\partial \\mathbf{r}}{\\partial \\mathbf{v}}\\Big|_{n+1}^{(i)} \\, d\\mathbf{v}_{n+1}^{(i+1)} + \\frac{\\partial \\mathbf{r}}{\\partial \\mathbf{a}}\\Big|_{n+1}^{(i)} \\, d\\mathbf{a}_{n+1}^{(i+1)} \\\\\n",
    "  & = \\mathbf{r}_{n+1}^{(i)} + \\left( \\frac{\\partial \\mathbf{r}}{\\partial \\mathbf{u}}\\Big|_{n+1}^{(i)} + \\frac{\\partial \\mathbf{r}}{\\partial \\mathbf{v}}\\Big|_{n+1}^{(i)} \\frac{d\\mathbf{v}_{n+1}^{(i+1)}}{d\\mathbf{a}_{n+1}^{(i+1)}} \\frac{d\\mathbf{a}_{n+1}^{(i+1)}}{d\\mathbf{u}_{n+1}^{(i+1)}} + \\frac{\\partial \\mathbf{r}}{\\partial \\mathbf{a}}\\Big|_{n+1}^{(i)} \\frac{d\\mathbf{a}_{n+1}^{(i+1)}}{d\\mathbf{u}_{n+1}^{(i+1)}} \\right) d\\mathbf{u}_{n+1}^{(i+1)} \\\\\n",
    "  & = \\mathbf{r}_{n+1}^{(i)} - \\left( \\mathbf{Kt}_{n+1}^{(i)} + \\frac{\\gamma}{\\beta \\, \\Delta t} \\mathbf{C} + \\frac{1}{\\beta \\, \\Delta t^2} \\mathbf{M} \\right) d\\mathbf{u}_{n+1}^{(i+1)}\n",
    "\\end{align}\n",
    "where $\\mathbf{Kt} := \\partial \\mathbf{f}^r / \\partial \\mathbf{u}$ is the so-called tangent stiffnes matrix.\n",
    "\n",
    "From the relation above, we can compute the updated displacements:\n",
    "\\begin{equation}\n",
    " \\mathbf{u}_{n+1}^{(i+1)} = \\mathbf{u}_{n+1}^{(i)} + \\left( \\mathbf{Kt}^{\\star (i)}_{n+1} \\right)^{-1} \\mathbf{r}_{n+1}^{(i)}\n",
    "\\end{equation}\n",
    "where $\\mathbf{Kt}^{\\star} = \\mathbf{Kt}_{n+1}^{(i)} + c_1 \\mathbf{C} + c_2 \\mathbf{M}$ with:\n",
    "\\begin{equation}\n",
    " c_1 = \\frac{\\gamma}{\\beta \\, \\Delta t} \\qquad \\textrm{and} \\qquad c_2 = \\frac{1}{\\beta \\, \\Delta t^2}\n",
    "\\end{equation}\n",
    "\n",
    "Then, the velocity and acceleration vectors can be updated as:\n",
    "\\begin{align}\n",
    " & \\mathbf{a}_{n+1}^{(i+1)} = \\mathbf{a}_{n+1}^{(i)} + \\frac{1}{\\beta \\, \\Delta t^2} d\\mathbf{u}_{n+1}^{(i+1)} \\\\\n",
    " & \\mathbf{v}_{n+1}^{(i+1)} = \\mathbf{v}_{n+1}^{(i)} + \\frac{\\gamma}{\\beta \\Delta t} d\\mathbf{u}_{n+1}^{(i+1)}\n",
    "\\end{align}\n",
    "\n",
    "*Remark:* Here, the damping matrix $\\mathbf{C}$ is considered as time independent, but it is time dependent for some damping models."
   ]
  },
  {
   "cell_type": "markdown",
   "metadata": {},
   "source": [
    "#### 4.4.1. Parameterization"
   ]
  },
  {
   "cell_type": "code",
   "execution_count": 14,
   "metadata": {
    "collapsed": true
   },
   "outputs": [],
   "source": [
    "# structural damping ratio\n",
    "strXi = 0.02\n",
    "\n",
    "# time stepping algorithm (Newmark method)\n",
    "timSte = 1e-2   # [s] time step\n",
    "gamma = 0.5\n",
    "beta = 0.25\n",
    "\n",
    "# build Rayleigh damping matrix\n",
    "alp,bet = strMod.rayDamCoe(strXi,ome_v)\n",
    "C_m = alp*M_m + bet*K_m\n",
    "\n",
    "# get time stepping coefficients c0, c1, and c2 (Newmark method)\n",
    "c0 = 1/(beta*timSte)\n",
    "c1 = c0*gamma\n",
    "c2 = c0/timSte\n",
    "\n",
    "# time steps ratio\n",
    "timSteRat = timSteGM/timSte\n",
    "\n",
    "# generalized stiffness matrix\n",
    "K2_m = c1*C_m + c2*M_m\n",
    "Kstar_m = K_m + K2_m"
   ]
  },
  {
   "cell_type": "markdown",
   "metadata": {},
   "source": [
    "#### 4.4.2. Initialization"
   ]
  },
  {
   "cell_type": "code",
   "execution_count": 15,
   "metadata": {
    "scrolled": false
   },
   "outputs": [
    {
     "data": {
      "text/plain": [
       "63"
      ]
     },
     "execution_count": 15,
     "metadata": {},
     "output_type": "execute_result"
    }
   ],
   "source": [
    "# time\n",
    "time = 0\n",
    "\n",
    "# initial forces vector\n",
    "fi_v = np.matlib.zeros((nDof,1))  # !!! change if not zeros\n",
    "\n",
    "# initial displacements vector\n",
    "dis_v = np.matlib.zeros((nDof,1))  # !!! change if not zeros\n",
    "\n",
    "# initial velocities\n",
    "vel_v = np.matlib.zeros((nDof,1))\n",
    "\n",
    "# initial ext. seismic forces vector\n",
    "fsei_v = np.matlib.zeros((nDof,1))\n",
    "\n",
    "# initial accelerations\n",
    "acc_v = np.matlib.zeros((nDof,1))\n",
    "f_v = fsei_v-C_m*vel_v-K_m*dis_v\n",
    "for i in range(0,nDof):\n",
    "    if M_m[i,i] == 0:\n",
    "        acc_v[i] = 0\n",
    "    else:\n",
    "        acc_v[i] = 1/M_m[i,i]*f_v[i]\n",
    "\n",
    "# output quantities\n",
    "filDis = open('disp.txt','w')\n",
    "filDis.write('{:1.3f},{:+.6E},{:+.6E},{:+.6E},{:+.6E} \\n'\n",
    "    .format(time,dis_v[0,0],dis_v[1,0],dis_v[2,0],dis_v[3,0]))"
   ]
  },
  {
   "cell_type": "markdown",
   "metadata": {},
   "source": [
    "#### 4.4.3. Step-by-step resolution"
   ]
  },
  {
   "cell_type": "code",
   "execution_count": 16,
   "metadata": {},
   "outputs": [
    {
     "name": "stdout",
     "output_type": "stream",
     "text": [
      "End of the computation\n"
     ]
    }
   ],
   "source": [
    "# step forward\n",
    "time += timSte\n",
    "\n",
    "i = 1\n",
    "while time < timFin:\n",
    "#    print('time =',time)\n",
    "    \n",
    "    # interpolate ground acceleration\n",
    "    xxx = i/timSteRat\n",
    "    j = np.floor(xxx)\n",
    "    j = np.int(j)\n",
    "    res = xxx-j\n",
    "    if res > 1e-12:\n",
    "        groAcc = (1-res)*GM_a2[j][1] + res*GM_a2[j+1][1]\n",
    "    else:\n",
    "        groAcc = (1-res)*GM_a2[j][1]\n",
    "    \n",
    "    # compute external loading vector\n",
    "    fsei_v = -M_m*r_v*groAcc*9.81\n",
    "\n",
    "    # initialize\n",
    "    vel1_v = (1-gamma/beta)*vel_v\n",
    "    vel2_v = timSte*(1-gamma/(2*beta))*acc_v\n",
    "    acc1_v = -1/(beta*timSte)*vel_v\n",
    "    acc2_v = (1-1/(2*beta))*acc_v\n",
    "    vel_v = vel1_v+vel2_v\n",
    "    acc_v = acc1_v+acc2_v\n",
    "\n",
    "    conv = False\n",
    "    k = 0\n",
    "\n",
    "    while conv == False:\n",
    "        \n",
    "        # compute residual\n",
    "        res_v = fsei_v - (M_m*acc_v + C_m*vel_v + fi_v)\n",
    "\n",
    "        # update increments\n",
    "        disInc_v = linalg.solve(Kstar_m,res_v) \n",
    "        dis_v += disInc_v\n",
    "        vel_v += c1*disInc_v\n",
    "        acc_v += c2*disInc_v\n",
    "        \n",
    "        # for linear problems\n",
    "        fi_v += K_m*disInc_v\n",
    "        \n",
    "        # for nonlinear problems (compute tangent stiffness)\n",
    "#        K1_m = strMod.stiMat(nDof,strEle,mesDat,eltPro,fixDof)\n",
    "#        Kstar_m = K_m + K2_m\n",
    "#        fi_v += K_m*disInc_v\n",
    "\n",
    "        # check convergence\n",
    "        norm = res_v.T*disInc_v\n",
    "        if norm < 1e-12:\n",
    "            conv = True\n",
    "        elif k > 50:\n",
    "            print('No convergence')\n",
    "            break\n",
    "        else:\n",
    "            k += 1\n",
    "    \n",
    "    # output quantities\n",
    "    filDis.write('{:1.3f},{:+.6E},{:+.6E},{:+.6E},{:+.6E} \\n'\n",
    "        .format(time,dis_v[0,0],dis_v[1,0],dis_v[2,0],dis_v[3,0]))\n",
    "\n",
    "    # step forward\n",
    "    i += 1\n",
    "    time += timSte\n",
    "\n",
    "filDis.close()\n",
    "print('End of the computation')"
   ]
  },
  {
   "cell_type": "markdown",
   "metadata": {
    "collapsed": true
   },
   "source": [
    "## 5. Outputs analysis"
   ]
  },
  {
   "cell_type": "markdown",
   "metadata": {},
   "source": [
    "### 5.1. Internal forces"
   ]
  },
  {
   "cell_type": "markdown",
   "metadata": {},
   "source": [
    "We are now interested in computing the internal forces in the elements connected to node 2 (elements 0, 1, and 4). This can be computed from the primary unknowns of the problem (the displacements of the free DOFs in the global coordinates system) as follows:\n",
    "- Retrieve in vector $\\texttt{dis_v}$ the displacements at both ends of each element:"
   ]
  },
  {
   "cell_type": "code",
   "execution_count": 19,
   "metadata": {
    "collapsed": true
   },
   "outputs": [],
   "source": [
    "# element 0 (column)\n",
    "dis0_v = np.matlib.zeros((6,1))\n",
    "dis0_v[0] = 0\n",
    "dis0_v[1] = 0\n",
    "dis0_v[2] = 0\n",
    "dis0_v[3] = dis_v[0]\n",
    "dis0_v[4] = dis_v[1]\n",
    "dis0_v[5] = dis_v[2]\n",
    "\n",
    "# element 1 (column)\n",
    "dis1_v = np.matlib.zeros((6,1))\n",
    "dis1_v[0] = dis_v[0]\n",
    "dis1_v[1] = dis_v[1]\n",
    "dis1_v[2] = dis_v[2]\n",
    "dis1_v[3] = dis_v[6]\n",
    "dis1_v[4] = dis_v[7]\n",
    "dis1_v[5] = dis_v[8]"
   ]
  },
  {
   "cell_type": "markdown",
   "metadata": {},
   "source": [
    "- Project the displacements into the local coordinates system:"
   ]
  },
  {
   "cell_type": "code",
   "execution_count": 20,
   "metadata": {
    "collapsed": true
   },
   "outputs": [],
   "source": [
    "# build transformation matrix\n",
    "# for the columns:\n",
    "#    Global    -->   Local\n",
    "#   Y                      x\n",
    "#   |                      |\n",
    "#   |          -->         |\n",
    "#   O----> X        y <----O\n",
    "cos = 0\n",
    "sin = 1\n",
    "R_m = strMod.glo2loc_2D(cos,sin)\n",
    "        \n",
    "# displacements in local coordinates system\n",
    "dis0loc_v = R_m*dis0_v   # column\n",
    "dis1loc_v = R_m*dis1_v   # column"
   ]
  },
  {
   "cell_type": "markdown",
   "metadata": {},
   "source": [
    "- Compute the internal forces (normal force, shear force, bendiing moment):"
   ]
  },
  {
   "cell_type": "code",
   "execution_count": 21,
   "metadata": {
    "collapsed": true
   },
   "outputs": [],
   "source": [
    "# retrieve stiffness matrices in the local coordinates system\n",
    "KeCol_m = strMod.beaSti_EB_2D_loc(2.1e11,33.4e-4,Hf,2772e-8)\n",
    "KeBea_m = strMod.beaSti_EB_2D_loc(2.1e11,33.4e-4,Lf,2772e-8)\n",
    "\n",
    "# compute internal nodal forces (F=K*d)\n",
    "forInt0_v = KeCol_m*dis0loc_v   # element 0\n",
    "forInt1_v = KeCol_m*dis1loc_v   # element 1"
   ]
  },
  {
   "cell_type": "markdown",
   "metadata": {
    "collapsed": true
   },
   "source": [
    "### 5.2. Normal stresses"
   ]
  },
  {
   "cell_type": "markdown",
   "metadata": {},
   "source": [
    "We can now focus on the normal stresses $\\sigma_{xx}(x,y)$ in the structural elements. In an element $e$ of cross-section area $A$, length $L$, and moment of inertia $I_z$ they can be computed from the formula:\n",
    "\n",
    "\\begin{equation}\n",
    " \\sigma^e_{xx}(x,y) = \\frac{N^e(x)}{A} + \\frac{M^e(x) \\, z}{I_y}\n",
    "\\end{equation}\n",
    "\n",
    "where\n",
    "\n",
    "\\begin{eqnarray}\n",
    " & N^e(x) = \\nu(x) + N^e_I\\left(1-\\frac{x}{L}\\right) - N^e_J \\frac{x}{L} \\\\\n",
    " & M^e(x) = \\mu(x) - M^e_I\\left(1-\\frac{x}{L}\\right) + M^e_J \\frac{x}{L}\n",
    "\\end{eqnarray}\n",
    "\n",
    "with $\\nu(x)$ and $\\mu(x)$ the normal force and bending moment in the isostatic version of the element $e$. For instance, element 4 is uniformly loaded with distributed vertical load $-q_1$, in this case:\n",
    "- $\\nu(x) = 0$\n",
    "- $\\mu(x) = q_1 x (Lf - x) / 2$"
   ]
  },
  {
   "cell_type": "code",
   "execution_count": null,
   "metadata": {
    "collapsed": true
   },
   "outputs": [],
   "source": []
  }
 ],
 "metadata": {
  "kernelspec": {
   "display_name": "Python 3",
   "language": "python",
   "name": "python3"
  },
  "language_info": {
   "codemirror_mode": {
    "name": "ipython",
    "version": 3
   },
   "file_extension": ".py",
   "mimetype": "text/x-python",
   "name": "python",
   "nbconvert_exporter": "python",
   "pygments_lexer": "ipython3",
   "version": "3.6.1"
  }
 },
 "nbformat": 4,
 "nbformat_minor": 2
}
